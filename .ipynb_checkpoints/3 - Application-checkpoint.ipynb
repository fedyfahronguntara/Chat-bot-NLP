{
 "cells": [
  {
   "cell_type": "markdown",
   "metadata": {},
   "source": [
    "Import necessary libraries"
   ]
  },
  {
   "cell_type": "code",
   "execution_count": 1,
   "metadata": {},
   "outputs": [
    {
     "name": "stderr",
     "output_type": "stream",
     "text": [
      "Using TensorFlow backend.\n"
     ]
    }
   ],
   "source": [
    "from scipy import spatial\n",
    "import numpy as np\n",
    "import gensim\n",
    "import nltk\n",
    "from keras.models import load_model"
   ]
  },
  {
   "cell_type": "markdown",
   "metadata": {},
   "source": [
    "Load LSTM model and gensim word2vec model"
   ]
  },
  {
   "cell_type": "code",
   "execution_count": 2,
   "metadata": {},
   "outputs": [
    {
     "name": "stdout",
     "output_type": "stream",
     "text": [
      "WARNING:tensorflow:From C:\\Users\\AndityaArifianto\\Anaconda3\\envs\\tensorflow\\lib\\site-packages\\tensorflow\\python\\framework\\op_def_library.py:263: colocate_with (from tensorflow.python.framework.ops) is deprecated and will be removed in a future version.\n",
      "Instructions for updating:\n",
      "Colocations handled automatically by placer.\n",
      "WARNING:tensorflow:From C:\\Users\\AndityaArifianto\\Anaconda3\\envs\\tensorflow\\lib\\site-packages\\tensorflow\\python\\ops\\math_ops.py:3066: to_int32 (from tensorflow.python.ops.math_ops) is deprecated and will be removed in a future version.\n",
      "Instructions for updating:\n",
      "Use tf.cast instead.\n"
     ]
    }
   ],
   "source": [
    "model=load_model('./model/model_lstm.h5')\n",
    "\n",
    "mod = gensim.models.Word2Vec.load('word2vec.bin');"
   ]
  },
  {
   "cell_type": "markdown",
   "metadata": {},
   "source": [
    "Create a new input conversation"
   ]
  },
  {
   "cell_type": "code",
   "execution_count": 3,
   "metadata": {},
   "outputs": [],
   "source": [
    "x = 'how are you ?'"
   ]
  },
  {
   "cell_type": "markdown",
   "metadata": {},
   "source": [
    "Tokenize input and convert to vector embedding"
   ]
  },
  {
   "cell_type": "code",
   "execution_count": 4,
   "metadata": {},
   "outputs": [],
   "source": [
    "sent=nltk.word_tokenize(x.lower())\n",
    "sentvec = [mod.wv[w] for w in sent if w in mod.wv.vocab]"
   ]
  },
  {
   "cell_type": "markdown",
   "metadata": {},
   "source": [
    "add token end"
   ]
  },
  {
   "cell_type": "code",
   "execution_count": 5,
   "metadata": {},
   "outputs": [],
   "source": [
    "token_end=np.ones((300,),dtype=np.float32) \n",
    "sentvec[7:]=[]\n",
    "sentvec.append(token_end)"
   ]
  },
  {
   "cell_type": "code",
   "execution_count": 6,
   "metadata": {},
   "outputs": [],
   "source": [
    "if len(sentvec)<8:\n",
    "    for i in range(8-len(sentvec)):\n",
    "        sentvec.append(token_end) \n",
    "sentvec=np.array([sentvec])"
   ]
  },
  {
   "cell_type": "markdown",
   "metadata": {},
   "source": [
    "Feed input vector to LSTM Model, output the prediction"
   ]
  },
  {
   "cell_type": "code",
   "execution_count": 7,
   "metadata": {},
   "outputs": [
    {
     "name": "stdout",
     "output_type": "stream",
     "text": [
      "i 'm fine , thanks .\n"
     ]
    }
   ],
   "source": [
    "predictions=model.predict(sentvec) \n",
    "output = [mod.wv.most_similar([predictions[0][i]])[0] for i in range(8)]\n",
    "result = [x[0]+' ' if x[1]>.35 else '' for x in output]\n",
    "print(''.join(result)+'.')"
   ]
  },
  {
   "cell_type": "code",
   "execution_count": null,
   "metadata": {},
   "outputs": [],
   "source": []
  },
  {
   "cell_type": "code",
   "execution_count": 8,
   "metadata": {},
   "outputs": [
    {
     "name": "stdout",
     "output_type": "stream",
     "text": [
      "enter 'exit' to exit\n",
      "input text:\n",
      "hi\n",
      "you: hi\n",
      "bot: you , thank you .\n",
      "\n",
      "input text:\n",
      "hello\n",
      "you: hello\n",
      "bot: you . you .\n",
      "\n",
      "input text:\n",
      "thank you\n",
      "you: thank you\n",
      "bot: you 're welcome .\n",
      "\n",
      "input text:\n",
      "how are you?\n",
      "you: how are you?\n",
      "bot: i 'm fine , thanks .\n",
      "\n",
      "input text:\n",
      "can i help you\n",
      "you: can i help you\n",
      "bot: i 'd like to of a .\n",
      "\n",
      "input text:\n",
      "nice to meet you\n",
      "you: nice to meet you\n",
      "bot: n't to meet you too . .\n",
      "\n",
      "input text:\n",
      "exit\n",
      "you: exit\n",
      "bot: you said thank .\n",
      "\n",
      "bot: good bye\n"
     ]
    }
   ],
   "source": [
    "x = ''\n",
    "print('enter \\'exit\\' to exit')\n",
    "while (x!='exit'):\n",
    "    print('input text:')\n",
    "    x = input()\n",
    "    print('you:',x)\n",
    "    sent=nltk.word_tokenize(x.lower())\n",
    "    sentvec = [mod.wv[w] for w in sent if w in mod.wv.vocab]\n",
    "    token_end=np.ones((300,),dtype=np.float32) \n",
    "    sentvec[7:]=[]\n",
    "    sentvec.append(token_end)\n",
    "    if len(sentvec)<8:\n",
    "        for i in range(8-len(sentvec)):\n",
    "            sentvec.append(token_end) \n",
    "    sentvec=np.array([sentvec])\n",
    "    predictions=model.predict(sentvec) \n",
    "    output = [mod.wv.most_similar([predictions[0][i]])[0] for i in range(8)]\n",
    "    result = [x[0]+' ' if x[1]>.35 else '' for x in output]\n",
    "    print('bot:',''.join(result)+'.')\n",
    "    print()\n",
    "print('bot: good bye')"
   ]
  },
  {
   "cell_type": "code",
   "execution_count": null,
   "metadata": {},
   "outputs": [],
   "source": []
  }
 ],
 "metadata": {
  "kernelspec": {
   "display_name": "Python 3",
   "language": "python",
   "name": "python3"
  },
  "language_info": {
   "codemirror_mode": {
    "name": "ipython",
    "version": 3
   },
   "file_extension": ".py",
   "mimetype": "text/x-python",
   "name": "python",
   "nbconvert_exporter": "python",
   "pygments_lexer": "ipython3",
   "version": "3.7.3"
  },
  "toc": {
   "base_numbering": 1,
   "nav_menu": {},
   "number_sections": false,
   "sideBar": true,
   "skip_h1_title": false,
   "title_cell": "Table of Contents",
   "title_sidebar": "Contents",
   "toc_cell": false,
   "toc_position": {
    "height": "calc(100% - 180px)",
    "left": "10px",
    "top": "150px",
    "width": "190.6px"
   },
   "toc_section_display": true,
   "toc_window_display": true
  }
 },
 "nbformat": 4,
 "nbformat_minor": 2
}
